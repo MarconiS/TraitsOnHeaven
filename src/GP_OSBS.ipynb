{
 "cells": [
  {
   "cell_type": "code",
   "execution_count": 206,
   "metadata": {
    "collapsed": true
   },
   "outputs": [],
   "source": [
    "import sklearn\n",
    "import csv\n",
    "import sys\n",
    "import pandas as pd\n",
    "import numpy as np\n",
    "from matplotlib import pyplot as plt\n",
    "import scipy"
   ]
  },
  {
   "cell_type": "code",
   "execution_count": 188,
   "metadata": {
    "collapsed": false
   },
   "outputs": [
    {
     "name": "stdout",
     "output_type": "stream",
     "text": [
      "rows spectra: 76 \n",
      " rows traits: 76\n"
     ]
    }
   ],
   "source": [
    "#spectra = pd.read_csv('/Users/sergiomarconi/OneDrive/Projects/OSBS/inputs/Spectra/CrownPix_norm_3N_pct.csv')\n",
    "spectra = pd.read_csv('/Users/sergiomarconi/OneDrive/Projects/OSBS/inputs/Bootstrap_2/onePix1Crown_N_pct94.csv')\n",
    "\n",
    "traits = pd.read_csv('/Users/sergiomarconi/OneDrive/Projects/OSBS/inputs/Spectra/CrownTraits.csv')\n",
    "print('rows spectra:', len(spectra), '\\n rows traits:',len(traits))"
   ]
  },
  {
   "cell_type": "code",
   "execution_count": 189,
   "metadata": {
    "collapsed": false
   },
   "outputs": [],
   "source": [
    "#traits = traits.drop(traits.index[len(traits)-1]) \n",
    "average_spectra = spectra.groupby(['pixel_crownID'], as_index = False).mean()\n",
    "#sd_spectra = spectra.groupby(['pixel_crownID'], as_index = False).std()\n",
    "#sd_spectra['pixel_crownID'] = average_spectra['pixel_crownID'] \n",
    "scaled_spectra = average_spectra - average_spectra.mean()\n",
    "scaled_spectra['pixel_crownID'] = average_spectra['pixel_crownID'] "
   ]
  },
  {
   "cell_type": "code",
   "execution_count": 190,
   "metadata": {
    "collapsed": true
   },
   "outputs": [],
   "source": [
    "scaled_spectra = scaled_spectra.dropna(axis=1)"
   ]
  },
  {
   "cell_type": "code",
   "execution_count": 191,
   "metadata": {
    "collapsed": true
   },
   "outputs": [],
   "source": [
    "from sklearn import gaussian_process\n",
    "from sklearn.gaussian_process.kernels import Matern, WhiteKernel, ConstantKernel"
   ]
  },
  {
   "cell_type": "markdown",
   "metadata": {},
   "source": [
    "Ok, here comes the most intriguing and customizable part. The choice and built of kernel. For Now, I am trying the one proposed by the tutorial. It presents:\n",
    "* Matèrn component (Matern):\n",
    "* amplitude factor (ConstantKernel):\n",
    "* observation noise (WhiteKernel):"
   ]
  },
  {
   "cell_type": "code",
   "execution_count": 192,
   "metadata": {
    "collapsed": true
   },
   "outputs": [],
   "source": [
    "kernel = ConstantKernel() + Matern(length_scale=2, nu=3/2) + WhiteKernel(noise_level=1)"
   ]
  },
  {
   "cell_type": "code",
   "execution_count": 193,
   "metadata": {
    "collapsed": false
   },
   "outputs": [
    {
     "name": "stdout",
     "output_type": "stream",
     "text": [
      "rows spectra: 76 \n",
      " rows traits: 76\n"
     ]
    }
   ],
   "source": [
    "X = scaled_spectra.drop(\"pixel_crownID\", 1)\n",
    "Y = traits['N_pct']\n",
    "gp = gaussian_process.GaussianProcessRegressor(kernel=kernel)\n",
    "print('rows spectra:', len(X.index), '\\n rows traits:',len(Y.index))"
   ]
  },
  {
   "cell_type": "code",
   "execution_count": 194,
   "metadata": {
    "collapsed": false
   },
   "outputs": [
    {
     "data": {
      "text/plain": [
       "0.99999999938925033"
      ]
     },
     "execution_count": 194,
     "metadata": {},
     "output_type": "execute_result"
    }
   ],
   "source": [
    "gp.fit(X,Y)\n",
    "gp.kernel_\n",
    "gp.score(X,Y)"
   ]
  },
  {
   "cell_type": "code",
   "execution_count": 195,
   "metadata": {
    "collapsed": false
   },
   "outputs": [
    {
     "name": "stdout",
     "output_type": "stream",
     "text": [
      "test spectra: 30 \n",
      " train spectra: 46\n"
     ]
    }
   ],
   "source": [
    "#train test split taken for the same dataset in R\n",
    "indx = [1,11,2,58,3,27,4,35,5,37,6,34,45,13,41,46,21,36,38,49,70,44,69,48,71,53,66,76,57,64]\n",
    "indx =[x-1 for x in indx]\n",
    "test_spectra = scaled_spectra.ix[indx]\n",
    "train_spectra = scaled_spectra.drop(scaled_spectra.index[indx])\n",
    "print('test spectra:', len(test_spectra.index), '\\n train spectra:',len(train_spectra.index))"
   ]
  },
  {
   "cell_type": "code",
   "execution_count": 196,
   "metadata": {
    "collapsed": false
   },
   "outputs": [
    {
     "name": "stdout",
     "output_type": "stream",
     "text": [
      "test spectra: 30 \n",
      " train spectra: 46\n"
     ]
    }
   ],
   "source": [
    "test_traits = traits.ix[indx]\n",
    "train_traits = traits.drop(traits.index[indx])\n",
    "print('test spectra:', len(test_traits.index), '\\n train spectra:',len(train_traits.index))"
   ]
  },
  {
   "cell_type": "code",
   "execution_count": 197,
   "metadata": {
    "collapsed": false
   },
   "outputs": [
    {
     "name": "stdout",
     "output_type": "stream",
     "text": [
      "rows spectra: 46 \n",
      " rows traits: 46\n"
     ]
    }
   ],
   "source": [
    "X = train_spectra.drop(\"pixel_crownID\", 1)\n",
    "Y = train_traits['N_pct']\n",
    "gp = gaussian_process.GaussianProcessRegressor(kernel=kernel)\n",
    "print('rows spectra:', len(X.index), '\\n rows traits:',len(Y.index))"
   ]
  },
  {
   "cell_type": "code",
   "execution_count": 198,
   "metadata": {
    "collapsed": false
   },
   "outputs": [
    {
     "data": {
      "text/plain": [
       "0.43622620755912023"
      ]
     },
     "execution_count": 198,
     "metadata": {},
     "output_type": "execute_result"
    }
   ],
   "source": [
    "gp.fit(X,Y)\n",
    "gp.kernel_\n",
    "gp.score(X,Y)"
   ]
  },
  {
   "cell_type": "code",
   "execution_count": 202,
   "metadata": {
    "collapsed": false
   },
   "outputs": [],
   "source": [
    "x_test = test_spectra.drop(\"pixel_crownID\", 1)\n",
    "y_pred, sigma = gp.predict(x_test, return_std=True)\n"
   ]
  },
  {
   "cell_type": "code",
   "execution_count": 203,
   "metadata": {
    "collapsed": true
   },
   "outputs": [],
   "source": [
    "def rsquared(x, y):\n",
    "    \"\"\" Return R^2 where x and y are array-like.\"\"\"\n",
    "\n",
    "    slope, intercept, r_value, p_value, std_err = scipy.stats.linregress(x, y)\n",
    "    return r_value**2"
   ]
  },
  {
   "cell_type": "code",
   "execution_count": 207,
   "metadata": {
    "collapsed": false
   },
   "outputs": [
    {
     "name": "stdout",
     "output_type": "stream",
     "text": [
      "0.200181021447\n"
     ]
    }
   ],
   "source": [
    "print(rsquared(y_pred,test_traits['N_pct']))\n"
   ]
  },
  {
   "cell_type": "code",
   "execution_count": null,
   "metadata": {
    "collapsed": true
   },
   "outputs": [],
   "source": []
  },
  {
   "cell_type": "code",
   "execution_count": 1,
   "metadata": {
    "collapsed": false
   },
   "outputs": [
    {
     "ename": "NameError",
     "evalue": "name 'test_spectra' is not defined",
     "output_type": "error",
     "traceback": [
      "\u001b[0;31m---------------------------------------------------------------------------\u001b[0m",
      "\u001b[0;31mNameError\u001b[0m                                 Traceback (most recent call last)",
      "\u001b[0;32m<ipython-input-1-7687430daac0>\u001b[0m in \u001b[0;36m<module>\u001b[0;34m()\u001b[0m\n\u001b[0;32m----> 1\u001b[0;31m \u001b[0mprint\u001b[0m\u001b[0;34m(\u001b[0m\u001b[0mtest_spectra\u001b[0m\u001b[0;34m)\u001b[0m\u001b[0;34m\u001b[0m\u001b[0m\n\u001b[0m",
      "\u001b[0;31mNameError\u001b[0m: name 'test_spectra' is not defined"
     ]
    }
   ],
   "source": [
    "print(test_spectra)"
   ]
  },
  {
   "cell_type": "code",
   "execution_count": 2,
   "metadata": {
    "collapsed": false
   },
   "outputs": [
    {
     "ename": "ImportError",
     "evalue": "No module named 'feather'",
     "output_type": "error",
     "traceback": [
      "\u001b[0;31m---------------------------------------------------------------------------\u001b[0m",
      "\u001b[0;31mImportError\u001b[0m                               Traceback (most recent call last)",
      "\u001b[0;32m<ipython-input-2-588f42580122>\u001b[0m in \u001b[0;36m<module>\u001b[0;34m()\u001b[0m\n\u001b[0;32m----> 1\u001b[0;31m \u001b[0;32mimport\u001b[0m \u001b[0mfeather\u001b[0m\u001b[0;34m\u001b[0m\u001b[0m\n\u001b[0m",
      "\u001b[0;31mImportError\u001b[0m: No module named 'feather'"
     ]
    }
   ],
   "source": [
    "import feather"
   ]
  },
  {
   "cell_type": "code",
   "execution_count": null,
   "metadata": {
    "collapsed": true
   },
   "outputs": [],
   "source": []
  }
 ],
 "metadata": {
  "anaconda-cloud": {},
  "kernelspec": {
   "display_name": "Python [conda root]",
   "language": "python",
   "name": "conda-root-py"
  },
  "language_info": {
   "codemirror_mode": {
    "name": "ipython",
    "version": 3
   },
   "file_extension": ".py",
   "mimetype": "text/x-python",
   "name": "python",
   "nbconvert_exporter": "python",
   "pygments_lexer": "ipython3",
   "version": "3.5.2"
  }
 },
 "nbformat": 4,
 "nbformat_minor": 1
}
